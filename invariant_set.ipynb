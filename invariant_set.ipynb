{
 "cells": [
  {
   "cell_type": "code",
   "execution_count": null,
   "metadata": {},
   "outputs": [],
   "source": [
    "import numpy as np\n",
    "import torch\n",
    "import cv2"
   ]
  },
  {
   "cell_type": "code",
   "execution_count": null,
   "metadata": {},
   "outputs": [],
   "source": [
    "def loss_func(kernel_func, C_vec, x, x0, L1_term, L2_term):\n",
    "    return (kernel_func(x) - C_vec).square().sum()+L1_term*(x - x0).abs().sum()+L2_term*(x-x0).square().sum()"
   ]
  },
  {
   "cell_type": "code",
   "execution_count": null,
   "metadata": {},
   "outputs": [],
   "source": [
    "data = torch.Tensor(np.array([cv2.imread(\"./data/\"+str(i)+\".png\", flags=cv2.IMREAD_GRAYSCALE) for i in range(10)])).reshape(10, 784)\n",
    "if torch.cuda.is_available():\n",
    "    data = data.cuda()\n",
    "\n",
    "x = data[0]\n",
    "epochs = 100\n",
    "for _ in range(5):\n",
    "    for _ in range(epochs):\n",
    "\n"
   ]
  }
 ],
 "metadata": {
  "kernelspec": {
   "display_name": "Python 3.10.8 ('barycenter')",
   "language": "python",
   "name": "python3"
  },
  "language_info": {
   "name": "python",
   "version": "3.10.8"
  },
  "orig_nbformat": 4,
  "vscode": {
   "interpreter": {
    "hash": "5723343c90d30ebf1d9b8460e3bd76363adc9e5b7f258fba699b08dbdccac36d"
   }
  }
 },
 "nbformat": 4,
 "nbformat_minor": 2
}
